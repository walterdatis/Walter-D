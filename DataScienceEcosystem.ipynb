{
 "cells": [
  {
   "cell_type": "markdown",
   "id": "fb7c00f6-1ded-47c9-8b6f-a491c8bd80dd",
   "metadata": {},
   "source": [
    "# Data Science Tools and Ecosystem"
   ]
  },
  {
   "cell_type": "markdown",
   "id": "bc27430f-2baf-46b3-9832-ab7a59ac8858",
   "metadata": {},
   "source": [
    "In this notebook, Data Science Tools and Ecosystem are summarized."
   ]
  },
  {
   "cell_type": "markdown",
   "id": "8cbb8583-0ddd-4ebb-a5ba-491670bc010a",
   "metadata": {},
   "source": [
    "Some of the popular languages that Data Scientists use are:\n",
    "1. R\n",
    "2. Python\n",
    "3. SQL"
   ]
  },
  {
   "cell_type": "markdown",
   "id": "e6a70264-aa76-4f63-9fc2-affd4e20989b",
   "metadata": {},
   "source": [
    "Some of the commonly used libraries used by Data Scientists include:\n",
    "1. TensorFlow\n",
    "2. SciPY\n",
    "3. Pandas"
   ]
  },
  {
   "cell_type": "markdown",
   "id": "df9a33b7-d2cb-43a5-8afd-e992fe4e99ac",
   "metadata": {},
   "source": [
    "| Data Science Tools |\n",
    "|--------------------|\n",
    "|RStudio             |\n",
    "|Google Colab        |\n",
    "|Jupyter Notebooks   |"
   ]
  },
  {
   "cell_type": "markdown",
   "id": "ce8dc3df-f4a4-4819-91e6-e7e4bccb7414",
   "metadata": {},
   "source": [
    "### Below are a few examples of evaluating arithmetic expressions in Python"
   ]
  },
  {
   "cell_type": "markdown",
   "id": "b26b7693-2761-4659-8421-8a415172f803",
   "metadata": {},
   "source": [
    "This a simple arithmetic expression to mutiply then add integers"
   ]
  },
  {
   "cell_type": "code",
   "execution_count": 1,
   "id": "ef92c454-f99a-469d-b26e-9b2655db1eff",
   "metadata": {},
   "outputs": [
    {
     "data": {
      "text/plain": [
       "17"
      ]
     },
     "execution_count": 1,
     "metadata": {},
     "output_type": "execute_result"
    }
   ],
   "source": [
    "(3*4)+5"
   ]
  },
  {
   "cell_type": "markdown",
   "id": "3f482f23-519c-437d-a6ec-b003c2d4a79c",
   "metadata": {},
   "source": [
    "This will convert 200 minutes to hours by diving by 60"
   ]
  },
  {
   "cell_type": "code",
   "execution_count": 3,
   "id": "22c25062-bff4-4752-a0f8-919da34e9cd5",
   "metadata": {},
   "outputs": [
    {
     "data": {
      "text/plain": [
       "3.3333333333333335"
      ]
     },
     "execution_count": 3,
     "metadata": {},
     "output_type": "execute_result"
    }
   ],
   "source": [
    "200/60"
   ]
  },
  {
   "cell_type": "markdown",
   "id": "e41cff4a-f433-458f-bfc9-f3388225ed47",
   "metadata": {},
   "source": [
    "# Objectives:"
   ]
  },
  {
   "cell_type": "markdown",
   "id": "ca20239f-3ccb-41fe-87b1-12c3867c84cc",
   "metadata": {},
   "source": [
    "- R\n",
    "- Python\n",
    "- SQL\n",
    "- Java"
   ]
  },
  {
   "cell_type": "markdown",
   "id": "f3e86680-388c-497e-8835-82c2c1e9db36",
   "metadata": {},
   "source": [
    "## Author "
   ]
  },
  {
   "cell_type": "code",
   "execution_count": null,
   "id": "97b069c5-aeaf-4b02-8fd4-bde0b7bb4df0",
   "metadata": {},
   "outputs": [],
   "source": [
    "Walter Datus "
   ]
  }
 ],
 "metadata": {
  "kernelspec": {
   "display_name": "anaconda-2024.02-py310",
   "language": "python",
   "name": "conda-env-anaconda-2024.02-py310-py"
  },
  "language_info": {
   "codemirror_mode": {
    "name": "ipython",
    "version": 3
   },
   "file_extension": ".py",
   "mimetype": "text/x-python",
   "name": "python",
   "nbconvert_exporter": "python",
   "pygments_lexer": "ipython3",
   "version": "3.10.14"
  }
 },
 "nbformat": 4,
 "nbformat_minor": 5
}
